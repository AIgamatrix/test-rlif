{
 "cells": [
  {
   "cell_type": "code",
   "execution_count": null,
   "id": "dec45cb4",
   "metadata": {},
   "outputs": [
    {
     "name": "stderr",
     "output_type": "stream",
     "text": [
      "Fetching 3 files: 100%|██████████| 3/3 [00:00<00:00,  4.48it/s]\n"
     ]
    },
    {
     "data": {
      "text/plain": [
       "'/home/big-leg/test-rlif/AIME2024'"
      ]
     },
     "execution_count": 10,
     "metadata": {},
     "output_type": "execute_result"
    }
   ],
   "source": [
    "import os\n",
    "from huggingface_hub import snapshot_download\n",
    "\n",
    "# 直接将镜像地址作为参数传递\n",
    "snapshot_download(\n",
    "    repo_id=\"Qwen/Qwen2.5-Math-1.5B\",\n",
    "    local_dir=\"./Qwen2.5-Math-1.5B\",\n",
    "    endpoint=\"https://hf-mirror.com\"\n",
    ")"
   ]
  }
 ],
 "metadata": {
  "kernelspec": {
   "display_name": "base",
   "language": "python",
   "name": "python3"
  },
  "language_info": {
   "codemirror_mode": {
    "name": "ipython",
    "version": 3
   },
   "file_extension": ".py",
   "mimetype": "text/x-python",
   "name": "python",
   "nbconvert_exporter": "python",
   "pygments_lexer": "ipython3",
   "version": "3.13.5"
  }
 },
 "nbformat": 4,
 "nbformat_minor": 5
}
