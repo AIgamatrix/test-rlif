{
 "cells": [
  {
   "cell_type": "code",
   "execution_count": 3,
   "id": "dec45cb4",
   "metadata": {},
   "outputs": [
    {
     "name": "stderr",
     "output_type": "stream",
     "text": [
      "/home/llama/miniconda3/envs/empo/lib/python3.10/site-packages/tqdm/auto.py:21: TqdmWarning: IProgress not found. Please update jupyter and ipywidgets. See https://ipywidgets.readthedocs.io/en/stable/user_install.html\n",
      "  from .autonotebook import tqdm as notebook_tqdm\n",
      "Fetching 10 files: 100%|██████████| 10/10 [09:05<00:00, 54.50s/it]\n"
     ]
    },
    {
     "data": {
      "text/plain": [
       "'/home/llama/test-rlif/Qwen2.5-Math-1.5B'"
      ]
     },
     "execution_count": 3,
     "metadata": {},
     "output_type": "execute_result"
    }
   ],
   "source": [
    "import os\n",
    "from huggingface_hub import snapshot_download\n",
    "\n",
    "# 直接将镜像地址作为参数传递\n",
    "snapshot_download(\n",
    "    repo_id=\"Qwen/Qwen2.5-Math-1.5B\",\n",
    "    local_dir=\"./Qwen2.5-Math-1.5B\",\n",
    "    endpoint=\"https://hf-mirror.com\"\n",
    ")"
   ]
  },
  {
   "cell_type": "code",
   "execution_count": 11,
   "id": "3ff35d7e",
   "metadata": {},
   "outputs": [
    {
     "name": "stderr",
     "output_type": "stream",
     "text": [
      "Fetching 3 files: 100%|██████████| 3/3 [00:01<00:00,  2.43it/s]\n"
     ]
    },
    {
     "data": {
      "text/plain": [
       "'/home/llama/test-rlif/datasets/amc12'"
      ]
     },
     "execution_count": 11,
     "metadata": {},
     "output_type": "execute_result"
    }
   ],
   "source": [
    "import os\n",
    "from huggingface_hub import snapshot_download\n",
    "snapshot_download(\n",
    "    repo_id=\"AI-MO/aimo-validation-amc\",\n",
    "    local_dir=\"./datasets/amc12\",\n",
    "    repo_type=\"dataset\" ,\n",
    "    endpoint=\"https://hf-mirror.com\"\n",
    ")"
   ]
  }
 ],
 "metadata": {
  "kernelspec": {
   "display_name": "empo",
   "language": "python",
   "name": "python3"
  },
  "language_info": {
   "codemirror_mode": {
    "name": "ipython",
    "version": 3
   },
   "file_extension": ".py",
   "mimetype": "text/x-python",
   "name": "python",
   "nbconvert_exporter": "python",
   "pygments_lexer": "ipython3",
   "version": "3.10.18"
  }
 },
 "nbformat": 4,
 "nbformat_minor": 5
}
